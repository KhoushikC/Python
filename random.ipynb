{
  "nbformat": 4,
  "nbformat_minor": 0,
  "metadata": {
    "colab": {
      "name": "random.ipynb",
      "provenance": [],
      "collapsed_sections": [],
      "include_colab_link": true
    },
    "kernelspec": {
      "name": "python3",
      "display_name": "Python 3"
    }
  },
  "cells": [
    {
      "cell_type": "markdown",
      "metadata": {
        "id": "view-in-github",
        "colab_type": "text"
      },
      "source": [
        "<a href=\"https://colab.research.google.com/github/KhoushikC/Python/blob/master/random.ipynb\" target=\"_parent\"><img src=\"https://colab.research.google.com/assets/colab-badge.svg\" alt=\"Open In Colab\"/></a>"
      ]
    },
    {
      "cell_type": "code",
      "metadata": {
        "id": "SMKLWoFjc_jX",
        "colab_type": "code",
        "outputId": "078180c1-6be6-4346-acf3-1f06e309f349",
        "colab": {
          "base_uri": "https://localhost:8080/",
          "height": 51
        }
      },
      "source": [
        "n=int(input(\"enter a number\"))\n",
        "x=1\n",
        "while x<=n:\n",
        "  print(x, end= \" \")\n",
        "  x=x+1"
      ],
      "execution_count": 0,
      "outputs": [
        {
          "output_type": "stream",
          "text": [
            "enter a number20\n",
            "1 2 3 4 5 6 7 8 9 10 11 12 13 14 15 16 17 18 19 20 "
          ],
          "name": "stdout"
        }
      ]
    },
    {
      "cell_type": "code",
      "metadata": {
        "id": "cuSnmxcGdFA9",
        "colab_type": "code",
        "colab": {
          "base_uri": "https://localhost:8080/",
          "height": 51
        },
        "outputId": "19667b74-28e0-49de-f6c1-ccaa8d8b6d72"
      },
      "source": [
        "#add only even number1 to n\n",
        "#input :n 10\n",
        "#output : 30\n",
        "n = int(input(\"enter a number\"))\n",
        "sum=0\n",
        "x=1\n",
        "while (x<=n):\n",
        "  if (x%2==0):\n",
        "    sum=sum+x\n",
        "  x=x+1\n",
        "print(sum)\n"
      ],
      "execution_count": 13,
      "outputs": [
        {
          "output_type": "stream",
          "text": [
            "enter a number10\n",
            "30\n"
          ],
          "name": "stdout"
        }
      ]
    },
    {
      "cell_type": "code",
      "metadata": {
        "id": "CHm0cwjYgnE2",
        "colab_type": "code",
        "colab": {
          "base_uri": "https://localhost:8080/",
          "height": 68
        },
        "outputId": "473644d5-9b85-4c77-bbc1-0c2ba0e65535"
      },
      "source": [
        "n=int(input(\"Enter a number:\"))\n",
        "temp=n\n",
        "rev=0\n",
        "while(n>0):\n",
        "    p=n%10\n",
        "    rev=rev*10+p\n",
        "    n=n//10\n",
        "if(temp==rev):\n",
        "    print(\"The number is palindrome!\")\n",
        "else:\n",
        "    print(\"Not a palindrome!\")\n",
        "    print(rev)\n"
      ],
      "execution_count": 16,
      "outputs": [
        {
          "output_type": "stream",
          "text": [
            "Enter a number:123\n",
            "Not a palindrome!\n",
            "321\n"
          ],
          "name": "stdout"
        }
      ]
    },
    {
      "cell_type": "markdown",
      "metadata": {
        "id": "Oe_o_7Vajyq7",
        "colab_type": "text"
      },
      "source": [
        "#Functional programming \n",
        " - Simple\n",
        " - Easy to read\n",
        " - Lengthy programs divided into sub programs\n",
        "#**SYNTAX**\n",
        "def nameofthefunction(<parameters>)\n",
        "    statements\n",
        "    return"
      ]
    },
    {
      "cell_type": "code",
      "metadata": {
        "id": "9CyJYsJXlMWh",
        "colab_type": "code",
        "colab": {
          "base_uri": "https://localhost:8080/",
          "height": 51
        },
        "outputId": "0baca8b5-c59a-47ce-b7e7-76ebfc240cb3"
      },
      "source": [
        "n = int(input(\"enter a number\"))\n",
        "def addeven(n):\n",
        "  sum = 0\n",
        "  while n!=0:\n",
        "    r=n%10\n",
        "    if r%2==0:\n",
        "      sum=sum+r\n",
        "    n=n//10\n",
        "  return sum\n",
        "addeven(n)"
      ],
      "execution_count": 20,
      "outputs": [
        {
          "output_type": "stream",
          "text": [
            "enter a number123456789\n"
          ],
          "name": "stdout"
        },
        {
          "output_type": "execute_result",
          "data": {
            "text/plain": [
              "20"
            ]
          },
          "metadata": {
            "tags": []
          },
          "execution_count": 20
        }
      ]
    },
    {
      "cell_type": "code",
      "metadata": {
        "id": "3K-RREwKloqI",
        "colab_type": "code",
        "colab": {
          "base_uri": "https://localhost:8080/",
          "height": 51
        },
        "outputId": "2283101c-c631-46b0-ad7f-9244f4c56782"
      },
      "source": [
        "#largest number\n",
        "n = int(input(\"enter a number\"))\n",
        "def largestnum(n):\n",
        "  l = 0\n",
        "  while n!=0:\n",
        "    r=n%10\n",
        "    if(r>l):\n",
        "      l=r      \n",
        "    n=n//10\n",
        "  return l\n",
        "largestnum(n)"
      ],
      "execution_count": 24,
      "outputs": [
        {
          "output_type": "stream",
          "text": [
            "enter a number139\n"
          ],
          "name": "stdout"
        },
        {
          "output_type": "execute_result",
          "data": {
            "text/plain": [
              "9"
            ]
          },
          "metadata": {
            "tags": []
          },
          "execution_count": 24
        }
      ]
    },
    {
      "cell_type": "code",
      "metadata": {
        "id": "X1LoOfGKp6Lp",
        "colab_type": "code",
        "colab": {
          "base_uri": "https://localhost:8080/",
          "height": 51
        },
        "outputId": "b4c4d421-5d13-4367-e5cb-b2ba9b86ba2c"
      },
      "source": [
        "n = int(input(\"enter a number\"))\n",
        "def natural(n):\n",
        "  for i in range(0, n):\n",
        "    i=i+1\n",
        "    print(i, end = \" \")\n",
        "natural(n)"
      ],
      "execution_count": 41,
      "outputs": [
        {
          "output_type": "stream",
          "text": [
            "enter a number10\n",
            "1 2 3 4 5 6 7 8 9 10 "
          ],
          "name": "stdout"
        }
      ]
    },
    {
      "cell_type": "code",
      "metadata": {
        "id": "OYZ5RxIJyqbS",
        "colab_type": "code",
        "colab": {
          "base_uri": "https://localhost:8080/",
          "height": 68
        },
        "outputId": "89cf49a9-64b6-48dd-b10b-e848ad1c6834"
      },
      "source": [
        "n = int(input(\"enter a number\"))\n",
        "y = int(input(\"enter a number\"))\n",
        "def natural(n):\n",
        "  for i in range(n-1, y):\n",
        "    i=i+1\n",
        "    print(i, end = \" \")\n",
        "natural(n)"
      ],
      "execution_count": 43,
      "outputs": [
        {
          "output_type": "stream",
          "text": [
            "enter a number11\n",
            "enter a number15\n",
            "11 12 13 14 15 "
          ],
          "name": "stdout"
        }
      ]
    },
    {
      "cell_type": "code",
      "metadata": {
        "id": "WyaY2xHp0TqZ",
        "colab_type": "code",
        "colab": {
          "base_uri": "https://localhost:8080/",
          "height": 68
        },
        "outputId": "d068806c-9420-4b7e-a243-32f24ebbf481"
      },
      "source": [
        "n = int(input(\"enter a number\"))\n",
        "y = int(input(\"enter a number\"))\n",
        "def natural(n):\n",
        "  for i in range(n-1, y,5):\n",
        "    i=i+1\n",
        "    print(i, end = \" \")\n",
        "natural(n)"
      ],
      "execution_count": 49,
      "outputs": [
        {
          "output_type": "stream",
          "text": [
            "enter a number0\n",
            "enter a number45\n",
            "0 5 10 15 20 25 30 35 40 45 "
          ],
          "name": "stdout"
        }
      ]
    },
    {
      "cell_type": "code",
      "metadata": {
        "id": "p23rVW7u00Nk",
        "colab_type": "code",
        "colab": {
          "base_uri": "https://localhost:8080/",
          "height": 34
        },
        "outputId": "1b631888-231c-44a9-d3c1-a102c91ec4f1"
      },
      "source": [
        "def reverse(start, end):\n",
        "  for i in range(end, start-1, -1):\n",
        "    print(i, end = \" \")\n",
        "reverse(1,10)"
      ],
      "execution_count": 58,
      "outputs": [
        {
          "output_type": "stream",
          "text": [
            "10 9 8 7 6 5 4 3 2 1 "
          ],
          "name": "stdout"
        }
      ]
    },
    {
      "cell_type": "markdown",
      "metadata": {
        "id": "MuYFCKbV4qzN",
        "colab_type": "text"
      },
      "source": [
        "# DATA STRUCTURES\n",
        " TYPES\n",
        " - List\n",
        " - Tuple \n",
        " - Dictionary\n",
        "#List is one of the greatest data structure in python\n",
        " CRUD operations on list\n",
        " 1. Create\n",
        " 2. Read\n",
        " 3. Update \n",
        " 4. Delete\n",
        "- list[1,2,3,4]"
      ]
    },
    {
      "cell_type": "code",
      "metadata": {
        "id": "i5_rLsGE4yFX",
        "colab_type": "code",
        "colab": {
          "base_uri": "https://localhost:8080/",
          "height": 34
        },
        "outputId": "bc5b971f-ba57-4328-94b5-b94fc36af985"
      },
      "source": [
        "li = [1, 2, 3, 4, 5]\n",
        "u  = ['a', 'e', 'i', 'o', 'u']\n",
        "del li[0:5]\n",
        "print(li)"
      ],
      "execution_count": 73,
      "outputs": [
        {
          "output_type": "stream",
          "text": [
            "[]\n"
          ],
          "name": "stdout"
        }
      ]
    },
    {
      "cell_type": "code",
      "metadata": {
        "id": "MJYh0Ub46zpd",
        "colab_type": "code",
        "colab": {}
      },
      "source": [
        ""
      ],
      "execution_count": 0,
      "outputs": []
    }
  ]
}