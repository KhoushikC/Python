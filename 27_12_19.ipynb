{
  "nbformat": 4,
  "nbformat_minor": 0,
  "metadata": {
    "colab": {
      "name": "27-12-19.ipynb",
      "provenance": [],
      "collapsed_sections": [],
      "include_colab_link": true
    },
    "kernelspec": {
      "name": "python3",
      "display_name": "Python 3"
    }
  },
  "cells": [
    {
      "cell_type": "markdown",
      "metadata": {
        "id": "view-in-github",
        "colab_type": "text"
      },
      "source": [
        "<a href=\"https://colab.research.google.com/github/KhoushikC/Python/blob/master/27_12_19.ipynb\" target=\"_parent\"><img src=\"https://colab.research.google.com/assets/colab-badge.svg\" alt=\"Open In Colab\"/></a>"
      ]
    },
    {
      "cell_type": "markdown",
      "metadata": {
        "id": "ofZGF4DMdM39",
        "colab_type": "text"
      },
      "source": [
        "#List Examples"
      ]
    },
    {
      "cell_type": "code",
      "metadata": {
        "id": "MypH12w-dR_-",
        "colab_type": "code",
        "outputId": "1b41f17a-74b2-44a4-c5a5-7cce54913906",
        "colab": {
          "base_uri": "https://localhost:8080/",
          "height": 34
        }
      },
      "source": [
        "li = [\"gitam\", 123, 234, 456, 789, 786, 981]\n",
        "li[2:4]"
      ],
      "execution_count": 0,
      "outputs": [
        {
          "output_type": "execute_result",
          "data": {
            "text/plain": [
              "[234, 456]"
            ]
          },
          "metadata": {
            "tags": []
          },
          "execution_count": 73
        }
      ]
    },
    {
      "cell_type": "code",
      "metadata": {
        "id": "Kp_r1qQZddF8",
        "colab_type": "code",
        "colab": {}
      },
      "source": [
        "li[1]= \"Khoushik\""
      ],
      "execution_count": 0,
      "outputs": []
    },
    {
      "cell_type": "code",
      "metadata": {
        "id": "-D8x8PDwdn3C",
        "colab_type": "code",
        "outputId": "d048414c-d022-47ea-8d88-326ca6405a0d",
        "colab": {
          "base_uri": "https://localhost:8080/",
          "height": 34
        }
      },
      "source": [
        "li"
      ],
      "execution_count": 0,
      "outputs": [
        {
          "output_type": "execute_result",
          "data": {
            "text/plain": [
              "['gitam', 'Khoushik', 234, 456, 789, 786, 981]"
            ]
          },
          "metadata": {
            "tags": []
          },
          "execution_count": 3
        }
      ]
    },
    {
      "cell_type": "code",
      "metadata": {
        "id": "01ZVs65GdpMJ",
        "colab_type": "code",
        "colab": {}
      },
      "source": [
        "li.append(77999)"
      ],
      "execution_count": 0,
      "outputs": []
    },
    {
      "cell_type": "code",
      "metadata": {
        "id": "LiSlluS-eFw3",
        "colab_type": "code",
        "outputId": "6d8b8ae7-3d56-41d0-b214-292c0362a9d7",
        "colab": {
          "base_uri": "https://localhost:8080/",
          "height": 34
        }
      },
      "source": [
        "li"
      ],
      "execution_count": 0,
      "outputs": [
        {
          "output_type": "execute_result",
          "data": {
            "text/plain": [
              "['gitam', 'Khoushik', 234, 456, 789, 786, 981, 77999]"
            ]
          },
          "metadata": {
            "tags": []
          },
          "execution_count": 5
        }
      ]
    },
    {
      "cell_type": "code",
      "metadata": {
        "id": "5S2G3G7reOH3",
        "colab_type": "code",
        "colab": {}
      },
      "source": [
        "del li[7]"
      ],
      "execution_count": 0,
      "outputs": []
    },
    {
      "cell_type": "code",
      "metadata": {
        "id": "5ee8GkMaeTOq",
        "colab_type": "code",
        "outputId": "3bac1766-f9c9-4431-cc8c-a0fd1dd83be0",
        "colab": {
          "base_uri": "https://localhost:8080/",
          "height": 34
        }
      },
      "source": [
        "li"
      ],
      "execution_count": 0,
      "outputs": [
        {
          "output_type": "execute_result",
          "data": {
            "text/plain": [
              "['gitam', 'Khoushik', 234, 456, 789, 786, 981]"
            ]
          },
          "metadata": {
            "tags": []
          },
          "execution_count": 8
        }
      ]
    },
    {
      "cell_type": "code",
      "metadata": {
        "id": "_Cn5FL-6eUgl",
        "colab_type": "code",
        "colab": {}
      },
      "source": [
        "li.remove(\"Gitam\")"
      ],
      "execution_count": 0,
      "outputs": []
    },
    {
      "cell_type": "code",
      "metadata": {
        "id": "I1NKOtlne30_",
        "colab_type": "code",
        "outputId": "ffa2265f-369d-4096-c6dc-a7d57ad6fa83",
        "colab": {
          "base_uri": "https://localhost:8080/",
          "height": 34
        }
      },
      "source": [
        "li"
      ],
      "execution_count": 0,
      "outputs": [
        {
          "output_type": "execute_result",
          "data": {
            "text/plain": [
              "['gitam', 'Khoushik', 234, 456, 789, 786, 981]"
            ]
          },
          "metadata": {
            "tags": []
          },
          "execution_count": 22
        }
      ]
    },
    {
      "cell_type": "code",
      "metadata": {
        "id": "cDGbd4qDe4nd",
        "colab_type": "code",
        "colab": {}
      },
      "source": [
        "li.insert(4, 8879)"
      ],
      "execution_count": 0,
      "outputs": []
    },
    {
      "cell_type": "code",
      "metadata": {
        "id": "slgGOWSmfjIv",
        "colab_type": "code",
        "outputId": "cf92489e-8cf8-4b4e-a685-4eed417c0039",
        "colab": {
          "base_uri": "https://localhost:8080/",
          "height": 34
        }
      },
      "source": [
        "li"
      ],
      "execution_count": 0,
      "outputs": [
        {
          "output_type": "execute_result",
          "data": {
            "text/plain": [
              "['gitam', 'Khoushik', 234, 456, 8879, 789, 786, 981]"
            ]
          },
          "metadata": {
            "tags": []
          },
          "execution_count": 24
        }
      ]
    },
    {
      "cell_type": "code",
      "metadata": {
        "id": "jK9diANtfj6V",
        "colab_type": "code",
        "outputId": "50d63830-5d12-4c88-a504-df6da199997e",
        "colab": {
          "base_uri": "https://localhost:8080/",
          "height": 34
        }
      },
      "source": [
        "len(li)"
      ],
      "execution_count": 0,
      "outputs": [
        {
          "output_type": "execute_result",
          "data": {
            "text/plain": [
              "8"
            ]
          },
          "metadata": {
            "tags": []
          },
          "execution_count": 25
        }
      ]
    },
    {
      "cell_type": "code",
      "metadata": {
        "id": "usix6OdOf2Lr",
        "colab_type": "code",
        "outputId": "9743799c-0a26-4392-a4e4-31575c282ce1",
        "colab": {
          "base_uri": "https://localhost:8080/",
          "height": 289
        }
      },
      "source": [
        "li*2"
      ],
      "execution_count": 0,
      "outputs": [
        {
          "output_type": "execute_result",
          "data": {
            "text/plain": [
              "['gitam',\n",
              " 'Khoushik',\n",
              " 234,\n",
              " 456,\n",
              " 8879,\n",
              " 789,\n",
              " 786,\n",
              " 981,\n",
              " 'gitam',\n",
              " 'Khoushik',\n",
              " 234,\n",
              " 456,\n",
              " 8879,\n",
              " 789,\n",
              " 786,\n",
              " 981]"
            ]
          },
          "metadata": {
            "tags": []
          },
          "execution_count": 46
        }
      ]
    },
    {
      "cell_type": "code",
      "metadata": {
        "id": "1a_4pyNYgKf2",
        "colab_type": "code",
        "outputId": "c17da0fd-faa5-4079-ced2-9a84487fc82c",
        "colab": {
          "base_uri": "https://localhost:8080/",
          "height": 34
        }
      },
      "source": [
        "print(\"Khoushik\" in li)"
      ],
      "execution_count": 0,
      "outputs": [
        {
          "output_type": "stream",
          "text": [
            "True\n"
          ],
          "name": "stdout"
        }
      ]
    },
    {
      "cell_type": "code",
      "metadata": {
        "id": "ZOzpX0ORgWF4",
        "colab_type": "code",
        "outputId": "8d00e24c-4e30-4949-dd83-7d329516ee0c",
        "colab": {
          "base_uri": "https://localhost:8080/",
          "height": 34
        }
      },
      "source": [
        "il = [2,3,4,5,6,7,8,9,0,1]\n",
        "print (max(il))"
      ],
      "execution_count": 0,
      "outputs": [
        {
          "output_type": "stream",
          "text": [
            "9\n"
          ],
          "name": "stdout"
        }
      ]
    },
    {
      "cell_type": "code",
      "metadata": {
        "id": "Z24v8NrIgxNM",
        "colab_type": "code",
        "outputId": "1ab0814c-396a-42f2-8d94-9b53625ee666",
        "colab": {
          "base_uri": "https://localhost:8080/",
          "height": 34
        }
      },
      "source": [
        "print(sum(il))"
      ],
      "execution_count": 0,
      "outputs": [
        {
          "output_type": "stream",
          "text": [
            "45\n"
          ],
          "name": "stdout"
        }
      ]
    },
    {
      "cell_type": "code",
      "metadata": {
        "id": "AwFwI4kig44G",
        "colab_type": "code",
        "outputId": "9996b833-c2bb-47fc-a6f0-80d39741f192",
        "colab": {
          "base_uri": "https://localhost:8080/",
          "height": 34
        }
      },
      "source": [
        "print(sum(il)/len(il))"
      ],
      "execution_count": 0,
      "outputs": [
        {
          "output_type": "stream",
          "text": [
            "4.5\n"
          ],
          "name": "stdout"
        }
      ]
    },
    {
      "cell_type": "code",
      "metadata": {
        "id": "LCwdFM1Nh8tX",
        "colab_type": "code",
        "outputId": "409f5908-a029-44e4-970c-d5c4046841f8",
        "colab": {
          "base_uri": "https://localhost:8080/",
          "height": 34
        }
      },
      "source": [
        "list = [1,256,123,44,75,61,73,8,9,10]\n",
        "list.sort()\n",
        "list"
      ],
      "execution_count": 0,
      "outputs": [
        {
          "output_type": "execute_result",
          "data": {
            "text/plain": [
              "[1, 8, 9, 10, 44, 61, 73, 75, 123, 256]"
            ]
          },
          "metadata": {
            "tags": []
          },
          "execution_count": 48
        }
      ]
    },
    {
      "cell_type": "code",
      "metadata": {
        "id": "h09vr8dAjGHB",
        "colab_type": "code",
        "outputId": "70003191-f758-48ab-f1c5-3a621adb7e91",
        "colab": {
          "base_uri": "https://localhost:8080/",
          "height": 34
        }
      },
      "source": [
        "list.pop()"
      ],
      "execution_count": 0,
      "outputs": [
        {
          "output_type": "execute_result",
          "data": {
            "text/plain": [
              "256"
            ]
          },
          "metadata": {
            "tags": []
          },
          "execution_count": 49
        }
      ]
    },
    {
      "cell_type": "code",
      "metadata": {
        "id": "FLSqmBEAjZn8",
        "colab_type": "code",
        "outputId": "08a970cc-8dad-4a3e-d3e6-c796588e62ad",
        "colab": {
          "base_uri": "https://localhost:8080/",
          "height": 34
        }
      },
      "source": [
        "list"
      ],
      "execution_count": 0,
      "outputs": [
        {
          "output_type": "execute_result",
          "data": {
            "text/plain": [
              "[1, 8, 9, 10, 44, 61, 73, 75, 123]"
            ]
          },
          "metadata": {
            "tags": []
          },
          "execution_count": 50
        }
      ]
    },
    {
      "cell_type": "code",
      "metadata": {
        "id": "NUopr7cnjcnQ",
        "colab_type": "code",
        "outputId": "285e5914-c78d-4530-a64f-d0480ab3be09",
        "colab": {
          "base_uri": "https://localhost:8080/",
          "height": 34
        }
      },
      "source": [
        "list.pop(0)"
      ],
      "execution_count": 0,
      "outputs": [
        {
          "output_type": "execute_result",
          "data": {
            "text/plain": [
              "1"
            ]
          },
          "metadata": {
            "tags": []
          },
          "execution_count": 51
        }
      ]
    },
    {
      "cell_type": "code",
      "metadata": {
        "id": "CV6LKsjbjh64",
        "colab_type": "code",
        "outputId": "aad3f23b-c1d1-415b-c98b-44e120b9a506",
        "colab": {
          "base_uri": "https://localhost:8080/",
          "height": 34
        }
      },
      "source": [
        "list"
      ],
      "execution_count": 0,
      "outputs": [
        {
          "output_type": "execute_result",
          "data": {
            "text/plain": [
              "[8, 9, 10, 44, 61, 73, 75, 123]"
            ]
          },
          "metadata": {
            "tags": []
          },
          "execution_count": 52
        }
      ]
    },
    {
      "cell_type": "code",
      "metadata": {
        "id": "-MfaBy0LjjNc",
        "colab_type": "code",
        "outputId": "68d89efc-ce8c-4c8b-fdbd-fb1eda7128d2",
        "colab": {
          "base_uri": "https://localhost:8080/",
          "height": 51
        }
      },
      "source": [
        "#funtion to return large number from the list\n",
        "def Fun(li):\n",
        "  li.sort()\n",
        "  return li[-1]\n",
        "def generic(li, n):\n",
        "  li.sort()\n",
        "  return li[-n]\n",
        "li = [1,256,123,44,75,61,73,8,9,10]\n",
        "print(Fun(li))\n",
        "print(generic(li, 2))"
      ],
      "execution_count": 0,
      "outputs": [
        {
          "output_type": "stream",
          "text": [
            "256\n",
            "123\n"
          ],
          "name": "stdout"
        }
      ]
    },
    {
      "cell_type": "code",
      "metadata": {
        "id": "m-xJGhnAlNFj",
        "colab_type": "code",
        "outputId": "0ec2b245-84c5-41df-a57a-96330780417c",
        "colab": {
          "base_uri": "https://localhost:8080/",
          "height": 51
        }
      },
      "source": [
        "def Fun(li):\n",
        "  li.sort()\n",
        "  return li[0]\n",
        "def generic(li, n):\n",
        "  li.sort()\n",
        "  return li[n-1]\n",
        "li = [1,256,123,44,75,61,73,8,9,10]\n",
        "print(Fun(li))\n",
        "print(generic(li, 2))"
      ],
      "execution_count": 0,
      "outputs": [
        {
          "output_type": "stream",
          "text": [
            "1\n",
            "8\n"
          ],
          "name": "stdout"
        }
      ]
    },
    {
      "cell_type": "markdown",
      "metadata": {
        "id": "fQogiWE5od53",
        "colab_type": "text"
      },
      "source": [
        "#Tuples\n",
        "- Values seperted by comma and closed within paranthesis\n",
        "- Values can't be changed i.e. Immutable\n",
        "#Difference between list and tuple\n",
        "- list can be modified\n",
        "- list used to access, modify, add, delete\n",
        "- tuple can't be modified\n",
        "- used to access data only \n"
      ]
    },
    {
      "cell_type": "code",
      "metadata": {
        "id": "XWqO_zJnmvId",
        "colab_type": "code",
        "outputId": "ce7db362-b038-4e3f-95d3-35d2cee7ae17",
        "colab": {
          "base_uri": "https://localhost:8080/",
          "height": 34
        }
      },
      "source": [
        "t1 = (1,2,3,4)\n",
        "t1"
      ],
      "execution_count": 0,
      "outputs": [
        {
          "output_type": "execute_result",
          "data": {
            "text/plain": [
              "(1, 2, 3, 4)"
            ]
          },
          "metadata": {
            "tags": []
          },
          "execution_count": 69
        }
      ]
    },
    {
      "cell_type": "code",
      "metadata": {
        "id": "3QRWlbR9qLML",
        "colab_type": "code",
        "outputId": "8e71679f-fd6a-43ff-e179-16c46b7ec7c9",
        "colab": {
          "base_uri": "https://localhost:8080/",
          "height": 34
        }
      },
      "source": [
        "type(t1)"
      ],
      "execution_count": 0,
      "outputs": [
        {
          "output_type": "execute_result",
          "data": {
            "text/plain": [
              "tuple"
            ]
          },
          "metadata": {
            "tags": []
          },
          "execution_count": 70
        }
      ]
    },
    {
      "cell_type": "code",
      "metadata": {
        "id": "p0OWREcvqP_T",
        "colab_type": "code",
        "outputId": "36909b2b-8891-4513-83b1-908997fbacf1",
        "colab": {
          "base_uri": "https://localhost:8080/",
          "height": 34
        }
      },
      "source": [
        "type(li)"
      ],
      "execution_count": 0,
      "outputs": [
        {
          "output_type": "execute_result",
          "data": {
            "text/plain": [
              "list"
            ]
          },
          "metadata": {
            "tags": []
          },
          "execution_count": 72
        }
      ]
    },
    {
      "cell_type": "markdown",
      "metadata": {
        "id": "T_8MZP5iszy3",
        "colab_type": "text"
      },
      "source": [
        "#Dictionary\n",
        "- It works on the concept of set unique data\n",
        "- It contains keys and values\n",
        "- each key is seperated from it's values with (:)\n",
        "- Each key and values seperated by (,) and dictionary enclosed by{}"
      ]
    },
    {
      "cell_type": "code",
      "metadata": {
        "id": "ZotFNWdRuG8O",
        "colab_type": "code",
        "outputId": "16cd2584-932c-4fe9-c956-5051498cc21f",
        "colab": {
          "base_uri": "https://localhost:8080/",
          "height": 34
        }
      },
      "source": [
        "d1={\"name\":\"GITAM\", \"Mail\":\"221710308012@gitam.in\", \"Address\":\"Hyderabad\"}\n",
        "d1"
      ],
      "execution_count": 0,
      "outputs": [
        {
          "output_type": "execute_result",
          "data": {
            "text/plain": [
              "{'Address': 'Hyderabad', 'Mail': '221710308012@gitam.in', 'name': 'GITAM'}"
            ]
          },
          "metadata": {
            "tags": []
          },
          "execution_count": 75
        }
      ]
    },
    {
      "cell_type": "code",
      "metadata": {
        "id": "YJjeaxTPufQq",
        "colab_type": "code",
        "outputId": "18f52edf-5556-4954-b24b-060cdf1308b1",
        "colab": {
          "base_uri": "https://localhost:8080/",
          "height": 34
        }
      },
      "source": [
        "d1[\"name\"]"
      ],
      "execution_count": 0,
      "outputs": [
        {
          "output_type": "execute_result",
          "data": {
            "text/plain": [
              "'GITAM'"
            ]
          },
          "metadata": {
            "tags": []
          },
          "execution_count": 77
        }
      ]
    },
    {
      "cell_type": "code",
      "metadata": {
        "id": "HIMyEJZiuxSB",
        "colab_type": "code",
        "outputId": "5b78d856-2fb0-431b-9a93-4ee3a9cd7053",
        "colab": {
          "base_uri": "https://localhost:8080/",
          "height": 34
        }
      },
      "source": [
        "print(d1)"
      ],
      "execution_count": 0,
      "outputs": [
        {
          "output_type": "stream",
          "text": [
            "{'name': 'GITAM', 'Mail': '221710308012@gitam.in', 'Address': 'Hyderabad'}\n"
          ],
          "name": "stdout"
        }
      ]
    },
    {
      "cell_type": "code",
      "metadata": {
        "id": "_XdAY1-MvAFL",
        "colab_type": "code",
        "outputId": "0674160b-724a-4fa4-a039-d248d90c6e98",
        "colab": {
          "base_uri": "https://localhost:8080/",
          "height": 34
        }
      },
      "source": [
        "s1 = \"HYDERABAD\"\n",
        "s1\n",
        "s1[0:9:2]\n"
      ],
      "execution_count": 0,
      "outputs": [
        {
          "output_type": "execute_result",
          "data": {
            "text/plain": [
              "'HDRBD'"
            ]
          },
          "metadata": {
            "tags": []
          },
          "execution_count": 84
        }
      ]
    },
    {
      "cell_type": "code",
      "metadata": {
        "id": "MG85ZyqB1ndj",
        "colab_type": "code",
        "outputId": "fd267f54-4ccb-4697-997e-1cc867a961b0",
        "colab": {
          "base_uri": "https://localhost:8080/",
          "height": 34
        }
      },
      "source": [
        "rev = s1[::-1]"
      ],
      "execution_count": 0,
      "outputs": [
        {
          "output_type": "execute_result",
          "data": {
            "text/plain": [
              "'DABAREDYH'"
            ]
          },
          "metadata": {
            "tags": []
          },
          "execution_count": 87
        }
      ]
    },
    {
      "cell_type": "code",
      "metadata": {
        "id": "1pJLzn6-1oqN",
        "colab_type": "code",
        "outputId": "bd1cd9c0-c9ca-427b-e2db-fb25fe5c0209",
        "colab": {
          "base_uri": "https://localhost:8080/",
          "height": 68
        }
      },
      "source": [
        "n = str(input(\"enter a string  \"))\n",
        "rev = n[::-1]\n",
        "if n == rev:\n",
        "  print(\"palindrome\")\n",
        "  print(rev)\n",
        "else:\n",
        "  print(\"not palindrome\")\n",
        "  print(rev)\n",
        "  "
      ],
      "execution_count": 0,
      "outputs": [
        {
          "output_type": "stream",
          "text": [
            "enter a string  +78987+\n",
            "palindrome\n",
            "+78987+\n"
          ],
          "name": "stdout"
        }
      ]
    },
    {
      "cell_type": "markdown",
      "metadata": {
        "id": "Sg1r__jN6Fs_",
        "colab_type": "text"
      },
      "source": [
        "#String built in methods\n",
        "- upper()\n",
        "- lower()\n",
        "- islower()\n",
        "- isupper()\n",
        "- istitle()\n",
        "- isnumeric()\n",
        "- isalpha()\n",
        "- isspace()"
      ]
    },
    {
      "cell_type": "code",
      "metadata": {
        "id": "L7rxAun75h9_",
        "colab_type": "code",
        "outputId": "8bd6228b-974a-4db0-bf88-6ac2bf67950a",
        "colab": {
          "base_uri": "https://localhost:8080/",
          "height": 34
        }
      },
      "source": [
        "s1 = \"PYTHON\"\n",
        "s1.upper()\n",
        "s1.lower()\n",
        "s1.isupper()\n",
        "s1.islower()\n",
        "s1.istitle()\n",
        "s1.isnumeric()\n",
        "s1.isalpha()\n",
        "s1.isspace()"
      ],
      "execution_count": 0,
      "outputs": [
        {
          "output_type": "execute_result",
          "data": {
            "text/plain": [
              "False"
            ]
          },
          "metadata": {
            "tags": []
          },
          "execution_count": 122
        }
      ]
    },
    {
      "cell_type": "code",
      "metadata": {
        "id": "BA0g1XqI7wXN",
        "colab_type": "code",
        "outputId": "0a8e3999-9f14-45a4-c92a-b86e3516e591",
        "colab": {
          "base_uri": "https://localhost:8080/",
          "height": 34
        }
      },
      "source": [
        "s1 = '  '\n",
        "s1.isspace()"
      ],
      "execution_count": 0,
      "outputs": [
        {
          "output_type": "execute_result",
          "data": {
            "text/plain": [
              "True"
            ]
          },
          "metadata": {
            "tags": []
          },
          "execution_count": 126
        }
      ]
    },
    {
      "cell_type": "markdown",
      "metadata": {
        "id": "zoZcYPfh-Hbx",
        "colab_type": "text"
      },
      "source": [
        "#String methods\n",
        "- join()\n",
        "- split()\n",
        "- replace()"
      ]
    },
    {
      "cell_type": "code",
      "metadata": {
        "id": "YOOr4658-YTn",
        "colab_type": "code",
        "colab": {}
      },
      "source": [
        "\n"
      ],
      "execution_count": 0,
      "outputs": []
    },
    {
      "cell_type": "code",
      "metadata": {
        "id": "Qxbo0gN_-fEg",
        "colab_type": "code",
        "colab": {
          "base_uri": "https://localhost:8080/",
          "height": 34
        },
        "outputId": "1609b2ef-e2b3-486e-e076-675267b71391"
      },
      "source": [
        "marks = {\"peter\" : [85,80,90], \"joe\": [86,90,95]}\n",
        "print(marks[\"peter\"])\n"
      ],
      "execution_count": 140,
      "outputs": [
        {
          "output_type": "stream",
          "text": [
            "[85, 80, 90]\n"
          ],
          "name": "stdout"
        }
      ]
    },
    {
      "cell_type": "code",
      "metadata": {
        "id": "Jf5WAIRrCGLV",
        "colab_type": "code",
        "colab": {
          "base_uri": "https://localhost:8080/",
          "height": 34
        },
        "outputId": "5ce011d6-ae80-447f-d967-99f10c5acc84"
      },
      "source": [
        "print(marks[\"peter\"][0])"
      ],
      "execution_count": 142,
      "outputs": [
        {
          "output_type": "stream",
          "text": [
            "85\n"
          ],
          "name": "stdout"
        }
      ]
    },
    {
      "cell_type": "code",
      "metadata": {
        "id": "96uRCICYCnA4",
        "colab_type": "code",
        "colab": {
          "base_uri": "https://localhost:8080/",
          "height": 34
        },
        "outputId": "f17d5de9-f3a3-44c8-df59-90806c63c110"
      },
      "source": [
        "print(marks[\"joe\"][0])"
      ],
      "execution_count": 143,
      "outputs": [
        {
          "output_type": "stream",
          "text": [
            "86\n"
          ],
          "name": "stdout"
        }
      ]
    },
    {
      "cell_type": "code",
      "metadata": {
        "id": "Og8ly0bmC6Cj",
        "colab_type": "code",
        "colab": {
          "base_uri": "https://localhost:8080/",
          "height": 34
        },
        "outputId": "e5432a53-3f44-4b65-ef1a-5140453f4fc6"
      },
      "source": [
        "print(marks[\"joe\"][::-1])"
      ],
      "execution_count": 146,
      "outputs": [
        {
          "output_type": "stream",
          "text": [
            "[95, 90, 86]\n"
          ],
          "name": "stdout"
        }
      ]
    },
    {
      "cell_type": "code",
      "metadata": {
        "id": "Tcu4nOF2DBFL",
        "colab_type": "code",
        "colab": {
          "base_uri": "https://localhost:8080/",
          "height": 34
        },
        "outputId": "50be448d-c6f0-4785-b368-e7c561da2b77"
      },
      "source": [
        "marks = {\"peter\" :{\"math\":1,\"english\":2}, \"joe\": [86,90,95]}\n",
        "\n",
        "print(marks[\"peter\"][\"english\"])"
      ],
      "execution_count": 151,
      "outputs": [
        {
          "output_type": "stream",
          "text": [
            "2\n"
          ],
          "name": "stdout"
        }
      ]
    },
    {
      "cell_type": "code",
      "metadata": {
        "id": "AOSP3v-AEGAH",
        "colab_type": "code",
        "colab": {}
      },
      "source": [
        ""
      ],
      "execution_count": 0,
      "outputs": []
    }
  ]
}